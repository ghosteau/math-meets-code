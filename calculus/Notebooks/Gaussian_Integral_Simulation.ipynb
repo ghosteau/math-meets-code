{
 "cells": [
  {
   "cell_type": "code",
   "execution_count": 1,
   "id": "6851ec35-a341-408a-a579-8d0430746239",
   "metadata": {},
   "outputs": [],
   "source": [
    "# Import libraries\n",
    "import math"
   ]
  },
  {
   "cell_type": "markdown",
   "id": "6c9a11db-41e1-4750-aee5-b5acf274a238",
   "metadata": {},
   "source": [
    "***Goal: to approximate and show the identity for the Gaussian integral (from negative infinity to positive infinity) being equal to the square root of pi.***\n",
    "\n",
    "We know the Riemann Sum is defined as:  \n",
    "$$\n",
    "\\sum_{i=1}^{n} f(x_i) \\Delta x\n",
    "$$\n",
    "\n",
    "And we can use it because of its relationship to an integration, which follows:  \n",
    "$$\n",
    "\\lim_{n \\to \\infty} \\sum_{i=1}^{n} f(x_i) \\Delta x = \\int_a^b f(x) \\, dx\n",
    "$$\n",
    "\n",
    "The Gaussian function is:  \n",
    "$$\n",
    "e^{-x^2}\n",
    "$$\n",
    "and we want to simulate:  \n",
    "$$\n",
    "\\int e^{-x^2} \\,dx\n",
    "$$"
   ]
  },
  {
   "cell_type": "markdown",
   "id": "252b490d-ccab-4d38-b312-7cdadace32ea",
   "metadata": {},
   "source": [
    "The Gaussian function is: $$e^{-x^2}$$ and we want to simulate: $$\\int e^{-x^2} \\,dx$$\n"
   ]
  },
  {
   "cell_type": "code",
   "execution_count": 2,
   "id": "7891223b-61db-4ce0-9042-d03693796824",
   "metadata": {},
   "outputs": [],
   "source": [
    "# Make a function that returns the y value to the Gaussian function\n",
    "def gaussian_function(x):\n",
    "    return math.e**(-x**2)"
   ]
  },
  {
   "cell_type": "code",
   "execution_count": 3,
   "id": "b48e1032-463a-4f97-a90f-f00d180cab53",
   "metadata": {},
   "outputs": [
    {
     "name": "stdout",
     "output_type": "stream",
     "text": [
      "f(1) = 0.36787944117144233\n",
      "f(-1) = 0.36787944117144233\n",
      "f(0.5) = 0.7788007830714049\n",
      "f(0) = 1.0\n"
     ]
    }
   ],
   "source": [
    "# Test some values to ensure functionality\n",
    "print(\"f(1) =\", gaussian_function(1))\n",
    "print(\"f(-1) =\", gaussian_function(-1))\n",
    "print(\"f(0.5) =\", gaussian_function(0.5))\n",
    "print(\"f(0) =\", gaussian_function(0))"
   ]
  },
  {
   "cell_type": "markdown",
   "id": "85849202-5c77-494d-b809-130c965664aa",
   "metadata": {},
   "source": [
    "We know the Riemann Sum is defined as: $$\\sum_{i=1}^{n} f(x_i) \\Delta x$$"
   ]
  },
  {
   "cell_type": "markdown",
   "id": "a57e0ac4-8e34-44e7-9a90-4264c87e4edd",
   "metadata": {},
   "source": [
    "And we can use it because of its relationship to an integration, which follows: $$\\lim_{n \\to \\infty} \\sum_{i=1}^{n} f(x_i) \\Delta x = \\int_a^b f(x) \\, dx$$"
   ]
  },
  {
   "cell_type": "code",
   "execution_count": 4,
   "id": "b10e7494-c7a8-44f2-b318-bdf4a9350192",
   "metadata": {},
   "outputs": [
    {
     "name": "stdout",
     "output_type": "stream",
     "text": [
      "Summation: 1.7724538509055157\n"
     ]
    }
   ],
   "source": [
    "# Define and create Riemann summation\n",
    "start = -100\n",
    "end = 100\n",
    "simulated_vals = range(start, end)\n",
    "delta = 0.1\n",
    "summation = 0\n",
    "\n",
    "\n",
    "while start < end:\n",
    "    summation += delta * gaussian_function(start)\n",
    "    start += delta\n",
    "\n",
    "print(\"Summation:\",  summation)"
   ]
  },
  {
   "cell_type": "markdown",
   "id": "5f74c3ba-b05b-4dab-a192-5d853018245e",
   "metadata": {},
   "source": [
    "$$1.7724538509055157 \\approx \\sqrt{\\pi}, \\text{ and thus by simulation we observe the identity stands.}$$"
   ]
  }
 ],
 "metadata": {
  "kernelspec": {
   "display_name": "Python 3 (ipykernel)",
   "language": "python",
   "name": "python3"
  },
  "language_info": {
   "codemirror_mode": {
    "name": "ipython",
    "version": 3
   },
   "file_extension": ".py",
   "mimetype": "text/x-python",
   "name": "python",
   "nbconvert_exporter": "python",
   "pygments_lexer": "ipython3",
   "version": "3.12.8"
  }
 },
 "nbformat": 4,
 "nbformat_minor": 5
}
